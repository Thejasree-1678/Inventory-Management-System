{
  "nbformat": 4,
  "nbformat_minor": 0,
  "metadata": {
    "colab": {
      "name": "IMS.ipynb",
      "provenance": [],
      "collapsed_sections": []
    },
    "kernelspec": {
      "name": "python3",
      "display_name": "Python 3"
    },
    "language_info": {
      "name": "python"
    }
  },
  "cells": [
    {
      "cell_type": "code",
      "metadata": {
        "colab": {
          "base_uri": "https://localhost:8080/"
        },
        "id": "VTvtzmxdRSpC",
        "outputId": "c87db1e7-ebdf-46f0-c562-9e643ba6f28b"
      },
      "source": [
        "import json\n",
        "fd = open('record.json','r')\n",
        "txt = fd.read()\n",
        "fd.close()\n",
        "print(txt)\n",
        "record = json.loads(txt)"
      ],
      "execution_count": 10,
      "outputs": [
        {
          "output_type": "stream",
          "name": "stdout",
          "text": [
            "{\"1001\": {\"name\": \"Choco Cake\", \"qn\": 34, \"pr\": 100, \"discount\": 2, \"category\": \"Cake\"},\n",
            "\"1002\": {\"name\": \"Milk Cake\", \"pr\": 800, \"qn\": 100, \"discount\": 4, \"category\": \"Cake\"}, \n",
            "\"1003\": {\"name\": \"Red Velvet\", \"pr\": 85, \"qn\": 100, \"discount\": 3, \"category\": \"Cake\"}, \n",
            "\"1004\": {\"name\": \"Black Forest\", \"pr\": 5, \"qn\": 1000, \"discount\": 1, \"category\": \"Cake\"}, \n",
            "\"1005\": {\"name\": \"StrawBerry\", \"pr\": 20, \"qn\": 100, \"discount\": 3, \"category\": \"Cake\"}, \n",
            "\"1006\": {\"name\": \"Phone\", \"pr\": 50000, \"qn\": 10, \"discount\": 20, \"category\": \"Gadgets\"}, \n",
            "\"1007\": {\"name\": \"Mic\", \"pr\": 1500, \"qn\": 0, \"discount\": 5, \"category\": \"Gadgets\"}, \n",
            "\"1008\": {\"name\": \"Laptop\", \"pr\": 599, \"qn\": 5, \"discount\": 1, \"category\": \"Gadgets\"}, \n",
            "\"1009\": {\"name\": \"Keyboard\", \"pr\": 1999, \"qn\": 10, \"discount\": 0, \"category\": \"Gadgets\"},\n",
            "\"1010\": {\"name\": \"Earphones\", \"pr\": 1999, \"qn\": 10, \"discount\": 0, \"category\": \"Gadgets\"},\n",
            "\"1011\": {\"name\": \"Coco Cola\", \"pr\": 1999, \"qn\": 10, \"discount\": 3, \"category\": \"Cool Drink\"},\n",
            "\"1012\": {\"name\": \"ThumsUp\", \"pr\": 1999, \"qn\": 10, \"discount\": 0, \"category\": \"Cool Drink\"},\n",
            "\"1013\": {\"name\": \"Sprite\", \"pr\": 1999, \"qn\": 10, \"discount\": 0, \"category\": \"Cool Drink\"},\n",
            "\"1014\": {\"name\": \"Fanta\", \"pr\": 1999, \"qn\": 10, \"discount\": 0, \"category\": \"Cool Drink\"},\n",
            "\"1015\": {\"name\": \"7up\", \"pr\": 1999, \"qn\": 10, \"discount\": 0, \"category\": \"Cool Drink\"},\n",
            "\"1016\": {\"name\": \"Pen\", \"pr\": 1999, \"qn\": 10, \"discount\": 0, \"category\": \"Stationary\"},\n",
            "\"1017\": {\"name\": \"Pencil\", \"pr\": 1999, \"qn\": 10, \"discount\": 0, \"category\": \"Stationary\"},\n",
            "\"1018\": {\"name\": \"Scale\", \"pr\": 1999, \"qn\": 10, \"discount\": 0, \"category\": \"Stationary\"},\n",
            "\"1019\": {\"name\": \"Sharpner\", \"pr\": 1999, \"qn\": 10, \"discount\": 0, \"category\": \"Stationary\"},\n",
            "\"1020\": {\"name\": \"Duster\", \"pr\": 1999, \"qn\": 10, \"discount\": 0, \"category\": \"Stationary\"},\n",
            "\"1021\": {\"name\": \"5star\", \"pr\": 1999, \"qn\": 10, \"discount\": 0, \"category\": \"Chocolates\"},\n",
            "\"1022\": {\"name\": \"Munch\", \"pr\": 1999, \"qn\": 10, \"discount\": 0, \"category\": \"Chocolates\"},\n",
            "\"1023\": {\"name\": \"Dairy Milk\", \"pr\": 1999, \"qn\": 10, \"discount\": 0, \"category\": \"Chocolates\"},\n",
            "\"1024\": {\"name\": \"Snickers\", \"pr\": 1999, \"qn\": 10, \"discount\": 0, \"category\": \"Chocolates\"},\n",
            "\"1025\": {\"name\": \"KitKat\", \"pr\": 1999, \"qn\": 10, \"discount\": 0, \"category\": \"Chocolates\"},\n",
            "\"1026\": {\"name\": \"Venilla\", \"pr\": 1999, \"qn\": 10, \"discount\": 0, \"category\": \"IceCreams\"},\n",
            "\"1027\": {\"name\": \"StawBerry\", \"pr\": 1999, \"qn\": 10, \"discount\": 0, \"category\": \"IceCreams\"},\n",
            "\"1028\": {\"name\": \"ChacoBar\", \"pr\": 1999, \"qn\": 10, \"discount\": 0, \"category\": \"IceCreams\"},\n",
            "\"1029\": {\"name\": \"MangoBar\", \"pr\": 1999, \"qn\": 10, \"discount\": 0, \"category\": \"IceCreams\"},\n",
            "\"1030\": {\"name\": \"CupCream\", \"pr\": 1999, \"qn\": 10, \"discount\": 0, \"category\": \"IceCreams\"}\n",
            "}\n",
            "\n"
          ]
        }
      ]
    },
    {
      "cell_type": "code",
      "metadata": {
        "colab": {
          "base_uri": "https://localhost:8080/"
        },
        "id": "RE-l8ZlhZu40",
        "outputId": "8f5b2850-98c0-47be-9464-319d9008a5d3"
      },
      "source": [
        "def addProduct(prod_id, name, pr, qn, discount, category):\n",
        "  record[prod_id] = {'name': name, 'pr': pr, 'qn': qn, 'discount' : discount ,'category' : category}\n",
        "\n",
        "  js = json.dumps(record)\n",
        "\n",
        "  fd = open(\"record.json\",'w')\n",
        "  fd.write(js)\n",
        "  fd.close()\n",
        "\n",
        "def buyProduct():\n",
        "  id = input(\"Enter the id of the product:\")\n",
        "  Quantity = int(input(\"Enter the quantity:\"))\n",
        "  if(Quantity > record[id][\"qn\"]):\n",
        "    print(\"Your required quantity is not available\")\n",
        "  else:\n",
        "    sale = {'prod_id' : id, 'name':record[id]['name'], 'pr': record[id]['pr'], 'qn': record[id]['qn']-Quantity}\n",
        "\n",
        "    sales = json.dumps(sale)\n",
        "    fd = open('sales.json','w')\n",
        "    fd.write(sales)\n",
        "    fd.close()\n",
        "\n",
        "\n",
        "    billAmount = (Quantity*record[id][\"pr\"])*((100-record[id][\"discount\"])/100)\n",
        "    record[id][\"qn\"] = record[id][\"qn\"] - Quantity\n",
        "    if(record[id][\"qn\"] == 0):\n",
        "      del record[id]\n",
        "  print(\"Total Amount : \",billAmount)\n",
        "  js = json.dumps(record)\n",
        "  fd = open(\"record.json\",'w')\n",
        "  fd.write(js)\n",
        "  fd.close()\n",
        "\n",
        "flag = True\n",
        "while(flag):\n",
        "  print(\"\\n\\n1.Add\\n2.Buy\\n3.Quit\")\n",
        "  choice = int(input(\"Enter your choice: \"))\n",
        "  if(choice == 1):\n",
        "    prod_id = str(input(\"Enter product id:\"))\n",
        "    name = str(input(\"Enter name:\"))\n",
        "    pr = int(input(\"Enter price:\"))\n",
        "    qn = int(input(\"Enter quantity:\"))\n",
        "    discount = int(input(\"Enter discount:\"))\n",
        "    category = str(input(\"Enter category:\"))\n",
        "    addProduct(prod_id, name, pr, qn, discount, category)\n",
        "  elif(choice == 2):\n",
        "    buyProduct()\n",
        "  elif(choice >= 3):\n",
        "    print(\"You are either selected to quit or selected the wrong choice\")\n",
        "    flag = False\n",
        "  \n"
      ],
      "execution_count": 9,
      "outputs": [
        {
          "output_type": "stream",
          "name": "stdout",
          "text": [
            "\n",
            "\n",
            "1.Add\n",
            "2.Buy\n",
            "3.Quit\n",
            "Enter your choice: 1\n",
            "Enter product id:1032\n",
            "Enter name:NotePad\n",
            "Enter price:35\n",
            "Enter quantity:8000\n",
            "Enter discount:3\n",
            "Enter category:Stationary\n",
            "\n",
            "\n",
            "1.Add\n",
            "2.Buy\n",
            "3.Quit\n",
            "Enter your choice: 2\n",
            "Enter the id of the product:1024\n",
            "Enter the quantity:3\n",
            "Total Amount :  45.0\n",
            "\n",
            "\n",
            "1.Add\n",
            "2.Buy\n",
            "3.Quit\n",
            "Enter your choice: 3\n",
            "You are either selected to quit or selected the wrong choice\n"
          ]
        }
      ]
    }
  ]
}